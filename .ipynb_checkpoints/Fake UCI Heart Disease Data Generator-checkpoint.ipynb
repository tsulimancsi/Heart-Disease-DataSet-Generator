{
 "cells": [
  {
   "cell_type": "markdown",
   "id": "interior-courtesy",
   "metadata": {},
   "source": [
    "# Fake UCI Heart Disease Generator"
   ]
  },
  {
   "cell_type": "markdown",
   "id": "vocal-sender",
   "metadata": {},
   "source": [
    "## Description"
   ]
  },
  {
   "cell_type": "markdown",
   "id": "forty-celebrity",
   "metadata": {},
   "source": [
    "* Number of Instances: 30000\n",
    "* Dataset Characterstics: \n",
    "* Associated Tasks: Calssification Problem\n",
    "* Number of Attributes: 14\n",
    "\n",
    "\n"
   ]
  },
  {
   "cell_type": "markdown",
   "id": "collectible-satin",
   "metadata": {},
   "source": [
    "## Meaning of column headings\n",
    "* Age is the age of candidate.\n",
    "* Sex has numeric values. 1 denotes male and 0 denotes female.\n",
    "* Chest Pain pain has values between 0-3. The types of angina that are described in the research paper. The higher the number, the lesser are the odds of heart attack.\n",
    "* Resting blood pressure is normal pressure with no exercise.\n",
    "* Cholesterol means the blockage for blood supply in the blood vessels.\n",
    "* Fasting Blood Pressure is blood sugar taken after a long gap between a meal and the test. Typically, it's taken before any meal in the morning.\n",
    "* Rest ECG results means ECG values taken while person is on rest which means no exercise and normal functioning of heart is happening.\n",
    "* The Maximum Heart Rate achieved.\n",
    "Exercise induced angina is chest pain while exercising or doing any physical activity.\n",
    "ST Depression is the difference between value of ECG at rest and after exercise.\n",
    "ST Slope is the tangent to the depression value.\n",
    "The number of major blood vessels supplying blood to heart blocked.\n",
    "The Types of thalassemia.\n",
    "Target:Heart attack prediction where 1 denotes Heart attack occured and 0 where it din't take occur."
   ]
  },
  {
   "cell_type": "markdown",
   "id": "reflected-danger",
   "metadata": {},
   "source": [
    "## Source\n",
    "Creator:\n",
    "\n",
    "Tamir Suliman tsulima2@gmu.edu"
   ]
  },
  {
   "cell_type": "markdown",
   "id": "relative-component",
   "metadata": {},
   "source": [
    "## Information\n",
    "This database contains the following attributes:\n",
    "\n",
    "\n",
    "1. id: patient identification number\n",
    "2. age: age in years\n",
    "3. sex: sex (1 = male; 0 = female)\n",
    "4. cp: chest pain type\n"
   ]
  },
  {
   "cell_type": "markdown",
   "id": "competent-commissioner",
   "metadata": {},
   "source": [
    "## Code "
   ]
  },
  {
   "cell_type": "code",
   "execution_count": 20,
   "id": "usual-being",
   "metadata": {},
   "outputs": [],
   "source": [
    "# Import libraries \n",
    "import random\n",
    "import numpy as np\n",
    "import pandas as pd"
   ]
  },
  {
   "cell_type": "code",
   "execution_count": 21,
   "id": "august-faculty",
   "metadata": {},
   "outputs": [],
   "source": [
    "# Number of Patients\n",
    "N = 30000 # Number of Records\n",
    "id = np.arange( 0, N )"
   ]
  },
  {
   "cell_type": "code",
   "execution_count": 29,
   "id": "accurate-skirt",
   "metadata": {},
   "outputs": [
    {
     "name": "stdout",
     "output_type": "stream",
     "text": [
      "[1 1 0 ... 0 1 1]\n",
      "[64 52 57 ... 22 21 47]\n"
     ]
    }
   ],
   "source": [
    "# General Attributes \n",
    "\n",
    "age = np.random.randint(21,77,size=N) # Age\n",
    "sex = np.random.randint(2, size=N) # Sex Male = 1 , Female = 0\n",
    "print(sex)\n",
    "print(age)"
   ]
  },
  {
   "cell_type": "code",
   "execution_count": 30,
   "id": "incomplete-northern",
   "metadata": {},
   "outputs": [
    {
     "name": "stdout",
     "output_type": "stream",
     "text": [
      "[3 1 4 ... 1 1 2]\n"
     ]
    }
   ],
   "source": [
    "# Chest Pain\n",
    "# chest pain type \n",
    "# angina – chest pain caused by restricted blood flow to the heart muscle\n",
    "# -- Value 1: typical angina\n",
    "# -- Value 2: atypical angina\n",
    "# -- Value 3: non-anginal pain\n",
    "# -- Value 4: asymptomatic\n",
    "chest_pain = np.random.randint(1,5, size=N) \n",
    "print(chest_pain)"
   ]
  },
  {
   "cell_type": "code",
   "execution_count": 31,
   "id": "available-pursuit",
   "metadata": {},
   "outputs": [
    {
     "name": "stdout",
     "output_type": "stream",
     "text": [
      "[120 151 156 ... 171 190 195]\n"
     ]
    }
   ],
   "source": [
    "# \n",
    "trestbps = np.random.randint(120,220, size=N)\n",
    "print(trestbps)"
   ]
  },
  {
   "cell_type": "code",
   "execution_count": 32,
   "id": "muslim-familiar",
   "metadata": {},
   "outputs": [
    {
     "name": "stdout",
     "output_type": "stream",
     "text": [
      "[246 535 335 ... 198 494 530]\n"
     ]
    }
   ],
   "source": [
    "chol = np.random.randint(126,564, size=N)\n",
    "print(chol)"
   ]
  },
  {
   "cell_type": "code",
   "execution_count": 56,
   "id": "unlike-tumor",
   "metadata": {},
   "outputs": [
    {
     "name": "stdout",
     "output_type": "stream",
     "text": [
      "[0 0 1 ... 1 0 0]\n"
     ]
    }
   ],
   "source": [
    "fbs = np.random.randint(2, size=N)\n",
    "print(fbs)\n"
   ]
  },
  {
   "cell_type": "code",
   "execution_count": 59,
   "id": "angry-program",
   "metadata": {},
   "outputs": [
    {
     "name": "stdout",
     "output_type": "stream",
     "text": [
      "[2 2 0 ... 2 1 0]\n"
     ]
    }
   ],
   "source": [
    "restecg = np.random.randint(0,3, size=N)\n",
    "print(restecg)"
   ]
  },
  {
   "cell_type": "code",
   "execution_count": 28,
   "id": "public-genesis",
   "metadata": {},
   "outputs": [
    {
     "name": "stdout",
     "output_type": "stream",
     "text": [
      "[113 118 189 ... 127 164 117]\n"
     ]
    }
   ],
   "source": [
    "thalach = np.random.randint(71,202, size=N)\n",
    "print(thalach)"
   ]
  },
  {
   "cell_type": "code",
   "execution_count": 55,
   "id": "explicit-startup",
   "metadata": {},
   "outputs": [
    {
     "name": "stdout",
     "output_type": "stream",
     "text": [
      "[0 1 0 ... 0 0 0]\n"
     ]
    }
   ],
   "source": [
    "exang = np.random.randint(2, size=N)\n",
    "print(exang)"
   ]
  },
  {
   "cell_type": "code",
   "execution_count": 52,
   "id": "instrumental-analyst",
   "metadata": {},
   "outputs": [
    {
     "name": "stdout",
     "output_type": "stream",
     "text": [
      "[1 1 2 ... 0 2 2]\n"
     ]
    }
   ],
   "source": [
    "oldpeak = np.random.randint(0.0,6.2, size=N)\n",
    "print(slope)"
   ]
  },
  {
   "cell_type": "code",
   "execution_count": 53,
   "id": "vital-reunion",
   "metadata": {},
   "outputs": [
    {
     "name": "stdout",
     "output_type": "stream",
     "text": [
      "[1 2 1 ... 2 2 1]\n"
     ]
    }
   ],
   "source": [
    "slope = np.random.randint(0,3, size=N)\n",
    "print(slope)"
   ]
  },
  {
   "cell_type": "code",
   "execution_count": 46,
   "id": "flexible-union",
   "metadata": {},
   "outputs": [
    {
     "name": "stdout",
     "output_type": "stream",
     "text": [
      "[1 1 0 ... 0 3 1]\n"
     ]
    }
   ],
   "source": [
    "ca =  np.random.randint(0,5, size=N)\n",
    "print(ca)"
   ]
  },
  {
   "cell_type": "code",
   "execution_count": 41,
   "id": "promising-newport",
   "metadata": {},
   "outputs": [
    {
     "name": "stdout",
     "output_type": "stream",
     "text": [
      "[3 3 2 ... 2 1 2]\n"
     ]
    }
   ],
   "source": [
    "thal = np.random.randint(0,4, size=N) \n",
    "print(thal)"
   ]
  },
  {
   "cell_type": "code",
   "execution_count": 42,
   "id": "middle-chemical",
   "metadata": {},
   "outputs": [
    {
     "name": "stdout",
     "output_type": "stream",
     "text": [
      "[0 0 1 ... 1 1 1]\n"
     ]
    }
   ],
   "source": [
    "target = np.random.randint(2, size=N)\n",
    "print(target)"
   ]
  },
  {
   "cell_type": "code",
   "execution_count": 43,
   "id": "micro-glenn",
   "metadata": {},
   "outputs": [],
   "source": [
    "# Join all  data\n",
    "df = pd.DataFrame({'id':id, 'age':age, 'sex':sex,'cp':chest_pain,'chol':chol,......, 'target':target});\n",
    "\n"
   ]
  },
  {
   "cell_type": "code",
   "execution_count": null,
   "id": "chubby-testament",
   "metadata": {},
   "outputs": [],
   "source": [
    "# Export generated data to CSV dataset file\n",
    "df.to_csv(r'UCI_Heart_Dataset_Test_Fake_export.csv', index = False, header= True)\n",
    "# Print the data \n",
    "df.head(1000)"
   ]
  }
 ],
 "metadata": {
  "kernelspec": {
   "display_name": "Python 3",
   "language": "python",
   "name": "python3"
  },
  "language_info": {
   "codemirror_mode": {
    "name": "ipython",
    "version": 3
   },
   "file_extension": ".py",
   "mimetype": "text/x-python",
   "name": "python",
   "nbconvert_exporter": "python",
   "pygments_lexer": "ipython3",
   "version": "3.8.8"
  }
 },
 "nbformat": 4,
 "nbformat_minor": 5
}
